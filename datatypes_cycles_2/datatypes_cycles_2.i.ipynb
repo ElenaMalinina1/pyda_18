{
 "cells": [
  {
   "cell_type": "markdown",
   "metadata": {},
   "source": [
    "# Задание 1"
   ]
  },
  {
   "cell_type": "code",
   "execution_count": null,
   "metadata": {},
   "outputs": [],
   "source": [
    "ids = {'user1': [213, 213, 213, 15, 213], \n",
    "       'user2': [54, 54, 119, 119, 119], \n",
    "       'user3': [213, 98, 98, 35]}\n",
    "\n",
    "unique=set()\n",
    "ids2=list(ids.values())       # создаем множество,куда записываются вычисления; проходимся через цикл\n",
    "\n",
    "for el in ids2:                         \n",
    "    unique.update(el)             # и методом .update соединяем их, выкидывая дубликаты\n",
    "print(f'Результат: {unique}')"
   ]
  },
  {
   "cell_type": "code",
   "execution_count": null,
   "metadata": {},
   "outputs": [],
   "source": [
    "# классное решение,просто хочу оставить для себя на пямять\n",
    "numbers=list(ids.values())\n",
    "set(sum(numbers, []))"
   ]
  },
  {
   "cell_type": "markdown",
   "metadata": {},
   "source": [
    "# Задание 2"
   ]
  },
  {
   "cell_type": "code",
   "execution_count": null,
   "metadata": {},
   "outputs": [],
   "source": [
    "queries = [\n",
    "    'смотреть сериалы онлайн',\n",
    "    'новости спорта',\n",
    "    'афиша кино',\n",
    "    'курс доллара',\n",
    "    'сериалы этим летом',\n",
    "    'курс по питону',\n",
    "    'сериалы про спорт',\n",
    "]\n",
    "\n",
    "dict_={}                            \n",
    "for query in queries:                           #создаем пустой словарь, куда будем складывать результат и разделяем его\n",
    "    key=len(query.split())\n",
    "    if key in dict_.keys():                     #в цикле проходимся по ключам, если есть - увеличиваем значение\n",
    "        dict_[key] += 1                                \n",
    "    else: \n",
    "        dict_[key] = 1                           #если нет - создаем его\n",
    "for key_1, value in dict_.items():\n",
    "    percent= round(value / len(queries) * 100, 2)         \n",
    "    print('Поисковых запросов, содержащих %s слов(а): %s' % (key_1, percent), '%')"
   ]
  },
  {
   "cell_type": "code",
   "execution_count": null,
   "metadata": {},
   "outputs": [],
   "source": [
    "dict_={}                            \n",
    "for query in queries:                           #2 решение, просто потому что эта задача была главной моей проблемой \n",
    "    key=len(query.split())\n",
    "    dict_[key]  = dict_.get(key, 0) + 1\n",
    "for key_1, value in dict_.items():\n",
    "    percent= round(value / len(queries) * 100, 2)         \n",
    "    print('Поисковых запросов, содержащих %s слов(а): %s' % (key_1, percent), '%')"
   ]
  },
  {
   "cell_type": "markdown",
   "metadata": {},
   "source": [
    "# Задание 3"
   ]
  },
  {
   "cell_type": "code",
   "execution_count": null,
   "metadata": {},
   "outputs": [],
   "source": [
    "results = {\n",
    "    'vk': {'revenue': 103, 'cost': 98},\n",
    "    'yandex': {'revenue': 179, 'cost': 153},\n",
    "    'facebook': {'revenue': 103, 'cost': 110},\n",
    "    'adwords': {'revenue': 35, 'cost': 34},\n",
    "    'twitter': {'revenue': 11, 'cost': 24},}\n",
    "\n",
    "for res1, res2 in results.items():\n",
    "    res2['ROI']  = round(100 * res2['revenue'] / res2['cost'] - 1, 2)\n",
    "    print(f'Результат:  {res1}, {res2} ')\n",
    "    # в цикле перебираем ключи и зночения, по формуле подставляем вычисления,округляем до 2 значений"
   ]
  },
  {
   "cell_type": "markdown",
   "metadata": {},
   "source": [
    "# Задание 4"
   ]
  },
  {
   "cell_type": "code",
   "execution_count": null,
   "metadata": {},
   "outputs": [],
   "source": [
    "stats = {'facebook': 55, 'yandex': 115, 'vk': 120, 'google': 99, 'email': 42, 'ok': 98, 'discord' : 145}\n",
    "\n",
    "print(f' Максимальный объем продаж на рекламном канале: ', max(stats, key = stats.get))\n",
    "# через get получаем макс. значение в словаре"
   ]
  },
  {
   "cell_type": "markdown",
   "metadata": {},
   "source": [
    "# Задание 5"
   ]
  },
  {
   "cell_type": "code",
   "execution_count": null,
   "metadata": {},
   "outputs": [],
   "source": [
    "my_list = ['2018-01-01', 'yandex', 'cpc', 100]\n",
    " \n",
    "new_dict= {}                            #создаем пустой словарь, перебираем в списке, выворачивая его .reversed\n",
    "for key in reversed(my_list):          \n",
    "    new_dict = {key : new_dict}\n",
    "print('Результат: ', new_dict)"
   ]
  }
 ],
 "metadata": {
  "kernelspec": {
   "display_name": "Python 3",
   "language": "python",
   "name": "python3"
  },
  "language_info": {
   "codemirror_mode": {
    "name": "ipython",
    "version": 3
   },
   "file_extension": ".py",
   "mimetype": "text/x-python",
   "name": "python",
   "nbconvert_exporter": "python",
   "pygments_lexer": "ipython3",
   "version": "3.8.5"
  }
 },
 "nbformat": 4,
 "nbformat_minor": 4
}
