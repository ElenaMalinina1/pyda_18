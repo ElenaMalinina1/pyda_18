{
 "cells": [
  {
   "cell_type": "markdown",
   "metadata": {},
   "source": [
    "# Задание 1\n",
    "**Скачайте с сайта https://grouplens.org/datasets/movielens/ датасет любого размера. Определите какому фильму было выставлено больше всего оценок 5.0.**"
   ]
  },
  {
   "cell_type": "code",
   "execution_count": 1,
   "metadata": {},
   "outputs": [],
   "source": [
    "import pandas as pd"
   ]
  },
  {
   "cell_type": "code",
   "execution_count": 13,
   "metadata": {},
   "outputs": [
    {
     "data": {
      "text/html": [
       "<div>\n",
       "<style scoped>\n",
       "    .dataframe tbody tr th:only-of-type {\n",
       "        vertical-align: middle;\n",
       "    }\n",
       "\n",
       "    .dataframe tbody tr th {\n",
       "        vertical-align: top;\n",
       "    }\n",
       "\n",
       "    .dataframe thead th {\n",
       "        text-align: right;\n",
       "    }\n",
       "</style>\n",
       "<table border=\"1\" class=\"dataframe\">\n",
       "  <thead>\n",
       "    <tr style=\"text-align: right;\">\n",
       "      <th></th>\n",
       "      <th>userId</th>\n",
       "      <th>movieId</th>\n",
       "      <th>rating</th>\n",
       "      <th>timestamp</th>\n",
       "      <th>title</th>\n",
       "      <th>genres</th>\n",
       "    </tr>\n",
       "  </thead>\n",
       "  <tbody>\n",
       "    <tr>\n",
       "      <th>0</th>\n",
       "      <td>1</td>\n",
       "      <td>296</td>\n",
       "      <td>5.0</td>\n",
       "      <td>1147880044</td>\n",
       "      <td>Pulp Fiction (1994)</td>\n",
       "      <td>Comedy|Crime|Drama|Thriller</td>\n",
       "    </tr>\n",
       "  </tbody>\n",
       "</table>\n",
       "</div>"
      ],
      "text/plain": [
       "   userId  movieId  rating   timestamp                title  \\\n",
       "0       1      296     5.0  1147880044  Pulp Fiction (1994)   \n",
       "\n",
       "                        genres  \n",
       "0  Comedy|Crime|Drama|Thriller  "
      ]
     },
     "execution_count": 13,
     "metadata": {},
     "output_type": "execute_result"
    }
   ],
   "source": [
    "'https://grouplens.org/datasets/movielens/25m/'\n",
    "\n",
    "ratings = pd.read_csv('ml-25m/ratings.csv')\n",
    "movies = pd.read_csv('ml-25m/movies.csv')\n",
    "# чтение файлов\n",
    "sort = ratings[ratings['rating'] == 5.0]\n",
    "# фильтрация строк по рейтингу\n",
    "sort.to_csv(\"ratings.csv\")\n",
    "# запись в новый файл\n",
    "joined = sort.merge(movies, on = 'movieId', how = 'left')\n",
    "# слияние 2-х файлов \n",
    "best_rating_of_film = joined[joined['rating'] == 5.0]\n",
    "best_rating_of_film['title'].value_counts()\n",
    "# поиск уникального значения в слобце\n",
    "best_rating_of_film.head(1)\n",
    "# вывод фильма с самым большим кол-ом оценок "
   ]
  },
  {
   "cell_type": "markdown",
   "metadata": {},
   "source": [
    "# Задание 2\n",
    "**По данным файла power.csv посчитайте суммарное потребление стран Прибалтики (Латвия, Литва и Эстония) категорий 4, 12 и 21 за период с 2005 по 2010 года. Не учитывайте в расчетах отрицательные значения quantity.**"
   ]
  },
  {
   "cell_type": "code",
   "execution_count": 20,
   "metadata": {},
   "outputs": [
    {
     "data": {
      "text/plain": [
       "817"
      ]
     },
     "execution_count": 20,
     "metadata": {},
     "output_type": "execute_result"
    }
   ],
   "source": [
    "data = pd.read_csv('power.csv')\n",
    "data[data['country'].str.contains('ia', case=False)]['country'].unique()\n",
    "# поиск стран с помощью подстроки\n",
    "filtred_countries = data[ (data['country'] == 'Lithuania') | (data['country'] =='Latvia') | (data['country'] =='Estonia') & (data['year'].between(2005, 2010)) ]\n",
    "# фильтрация стран и года\n",
    "filtred_categories = filtred_countries[ (filtred_countries['category'] == 4) | (filtred_countries['category'] == 12) | (filtred_countries['category'] == 21) ]\n",
    "# фильтрация нужных категорий\n",
    "sum_of_data = filtred_categories['quantity'] > 0\n",
    "# исключение отрицительных значений \n",
    "sum_of_data.sum()\n",
    "# подсчет суммы"
   ]
  },
  {
   "cell_type": "markdown",
   "metadata": {},
   "source": [
    "# Задание 3\n",
    "**Выберите страницу любого сайта с табличными данными. Импортируйте таблицы в pandas dataframe.**"
   ]
  },
  {
   "cell_type": "code",
   "execution_count": 11,
   "metadata": {},
   "outputs": [
    {
     "name": "stdout",
     "output_type": "stream",
     "text": [
      "    Код  Количество                 Название       RUB  Изменение\n",
      "0   USD           1               Доллар США   74.3566     0.3166\n",
      "1   EUR           1                     Евро   89.9343     0.0868\n",
      "2   CNY           1           Китайский юань   11.5198     0.0265\n",
      "3   GBP           1          Фунт стерлингов  104.4487    -0.2216\n",
      "4   TJS          10        Таджикский сомони   65.1965     0.2776\n",
      "5   KZT         100      Казахстанский тенге   17.3708    -0.0032\n",
      "6   TRY          10            Турецкая лира   87.5072    -1.4458\n",
      "7   PLN           1          Польский злотый   19.7599    -0.0216\n",
      "8   UAH          10        Украинская гривна   26.9106     0.1192\n",
      "9   BYN           1        Белорусский рубль   29.2639     0.0083\n",
      "10  UZS       10000            Узбекский сум   70.4747     0.2457\n",
      "11  KGS         100           Киргизский сом   87.8022     0.4545\n",
      "12  AMD         100           Армянский драм   14.2372     0.0560\n",
      "13  JPY         100            Японская иена   67.8250    -0.2515\n",
      "14  CHF           1        Швейцарский франк   81.9086     0.0422\n",
      "15  CZK          10            Чешская крона   35.1360    -0.0240\n",
      "16  CAD           1         Канадский доллар   61.2341     0.0339\n",
      "17  AZN           1    Азербайджанский манат   43.7649     0.1863\n",
      "18  KRW        1000     Вон Республики Корея   65.6834    -0.1492\n",
      "19  SEK          10           Шведская крона   88.1723    -0.7689\n",
      "20  INR          10          Индийская рупия   10.1003     0.0147\n",
      "21  HUF         100        Венгерский форинт   25.1787     0.0923\n",
      "22  NOK          10         Норвежская крона   88.7819    -0.7411\n",
      "23  AUD           1     Австралийский доллар   57.3364    -0.4592\n",
      "24  BGN           1           Болгарский лев   45.9303    -0.0088\n",
      "25  MDL          10           Молдавский лей   41.9383     0.1078\n",
      "26  DKK           1            Датская крона   12.0807    -0.0033\n",
      "27  SGD           1      Сингапурский доллар   55.6978    -0.0510\n",
      "28  RON           1            Румынский лей   18.2327     0.0007\n",
      "29  BRL           1         Бразильский реал   14.0179    -0.1587\n",
      "30  TMT           1  Новый туркменский манат   21.2751     0.0906\n",
      "31  XDR           1                      СДР  107.1047     0.3361\n",
      "32  ZAR          10     Южноафриканский рэнд   52.7554    -0.1897\n",
      "<class 'pandas.core.frame.DataFrame'>\n"
     ]
    }
   ],
   "source": [
    "url = 'https://fortrader.org/currencyrates'\n",
    "df = pd.read_html(url, attrs = {'class' : 'items table table-bordered'}, encoding = 'utf-8')[0]\n",
    "print(df)\n",
    "print(type(df))"
   ]
  }
 ],
 "metadata": {
  "kernelspec": {
   "display_name": "Python 3",
   "language": "python",
   "name": "python3"
  },
  "language_info": {
   "codemirror_mode": {
    "name": "ipython",
    "version": 3
   },
   "file_extension": ".py",
   "mimetype": "text/x-python",
   "name": "python",
   "nbconvert_exporter": "python",
   "pygments_lexer": "ipython3",
   "version": "3.8.5"
  }
 },
 "nbformat": 4,
 "nbformat_minor": 4
}
