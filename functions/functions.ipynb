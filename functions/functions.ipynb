{
 "cells": [
  {
   "cell_type": "code",
   "execution_count": 2,
   "metadata": {},
   "outputs": [],
   "source": [
    "documents = [\n",
    " {'type': 'passport', 'number': '2207 876234', 'name': 'Василий Гупкин'},\n",
    " {'type': 'invoice', 'number': '11-2', 'name': 'Геннадий Покемонов'},\n",
    " {'type': 'insurance', 'number': '10006', 'name': 'Аристарх Павлов'}\n",
    "]\n",
    "directories = {\n",
    " '1': ['2207 876234', '11-2'],\n",
    " '2': ['10006'],\n",
    " '3': []\n",
    "}\n"
   ]
  },
  {
   "cell_type": "code",
   "execution_count": 3,
   "metadata": {},
   "outputs": [
    {
     "name": "stdout",
     "output_type": "stream",
     "text": [
      "Введите команду: 1\n",
      "Выход из программы\n"
     ]
    }
   ],
   "source": [
    "def main(documents, directories):\n",
    "    \"\"\"\n",
    "    Пользователь по команде \"p\" может узнать владельца документа по его номеру;\n",
    "    Пользователь по команде \"s\" может по номеру документа узнать на какой полке он хранится;\n",
    "    Пользователь по команде \"l\" может увидеть полную информацию по всем документам;\n",
    "    Пользователь по команде \"ads\" может добавить новую полку;\n",
    "    Пользователь по команде \"ds\" может удалить существующую полку из данных (только если она пустая);\n",
    "    Пользователь по команде \"q\" может завершить программу.\n",
    "    \"\"\"\n",
    "    while True:\n",
    "        command= input('Введите команду: ')\n",
    "        if command == 'p':\n",
    "            print(find_name())\n",
    "        elif command == 's':\n",
    "            print(find_shelf())\n",
    "        elif command == 'i':\n",
    "            print(all_info())\n",
    "        elif command == 'ads':\n",
    "            print(add_shelf())\n",
    "        elif command == 'ds':\n",
    "            print(del_shelf())\n",
    "        else:\n",
    "            command == 'q'\n",
    "            print('Выход из программы')\n",
    "        break\n",
    "main(documents, directories)"
   ]
  },
  {
   "cell_type": "code",
   "execution_count": 5,
   "metadata": {},
   "outputs": [
    {
     "name": "stdout",
     "output_type": "stream",
     "text": [
      "Введите номер документа: 1\n"
     ]
    },
    {
     "data": {
      "text/plain": [
       "'Документ не найден в базе'"
      ]
     },
     "execution_count": 5,
     "metadata": {},
     "output_type": "execute_result"
    }
   ],
   "source": [
    "def find_name():\n",
    "    \"\"\"Пользователь  может узнать владельца документа по его номеру\"\"\"\n",
    "    user_input=input('Введите номер документа: ')\n",
    "    for person in documents:\n",
    "#         проверяем вхождение элемента в словарь\n",
    "        if user_input == person['number']:\n",
    "#         обращаемся к элементу по имени в словаре\n",
    "            return 'Владелец документа: ', person['name']\n",
    "    else:\n",
    "        return'Документ не найден в базе'\n",
    "find_name()"
   ]
  },
  {
   "cell_type": "code",
   "execution_count": 6,
   "metadata": {},
   "outputs": [
    {
     "name": "stdout",
     "output_type": "stream",
     "text": [
      "Введите номер документа: 1\n"
     ]
    },
    {
     "data": {
      "text/plain": [
       "'Документ не найден в базе'"
      ]
     },
     "execution_count": 6,
     "metadata": {},
     "output_type": "execute_result"
    }
   ],
   "source": [
    "def find_shelf():\n",
    "    \"\"\"Пользователь  может по номеру документа узнать на какой полке он хранится\"\"\"\n",
    "    user_input=input('Введите номер документа: ')\n",
    "    for shelf, doc_num in directories.items():\n",
    "#         в цикле делим словарь на ключи и значения\n",
    "        if user_input in doc_num:\n",
    "#         проверяем наличие документа в значения, если есть выводим print\n",
    "            return 'Документ хранится на полке: ', shelf\n",
    "    else:\n",
    "        return 'Документ не найден в базе'\n",
    "find_shelf()"
   ]
  },
  {
   "cell_type": "code",
   "execution_count": 7,
   "metadata": {},
   "outputs": [
    {
     "name": "stdout",
     "output_type": "stream",
     "text": [
      "№ 2207 876234, тип passport, владелец Василий Гупкин, полка хранения: 1\n",
      "№ 11-2, тип invoice, владелец Геннадий Покемонов, полка хранения: 1\n",
      "№ 10006, тип insurance, владелец Аристарх Павлов, полка хранения: 2\n"
     ]
    }
   ],
   "source": [
    "def all_info():\n",
    "    \"\"\"Пользователь  может увидеть полную информацию по всем документам\"\"\"\n",
    "    for person in documents:\n",
    "        type_=person['type']\n",
    "        number=person['number']\n",
    "        name=person['name']\n",
    "#         заводим переменные для вывада данных через f'\n",
    "        for shelf, doc_num in directories.items():\n",
    "#         пербираем все значения и ключи\n",
    "            if number in doc_num:\n",
    "                print (f'№ {number}, тип {type_}, владелец {name}, полка хранения: {shelf}')\n",
    "    return\n",
    "all_info()"
   ]
  },
  {
   "cell_type": "code",
   "execution_count": 8,
   "metadata": {},
   "outputs": [
    {
     "name": "stdout",
     "output_type": "stream",
     "text": [
      "Введите номер полки: 1\n"
     ]
    },
    {
     "data": {
      "text/plain": [
       "('Такая полка уже существует. Текущий перечень полок:', '1', '2', '3')"
      ]
     },
     "execution_count": 8,
     "metadata": {},
     "output_type": "execute_result"
    }
   ],
   "source": [
    "def add_shelf():\n",
    "    \"\"\"Пользователь  может добавить новую полку\"\"\"\n",
    "    user_input=input('Введите номер полки: ')\n",
    "    if user_input in directories:\n",
    "#         проверка на вхождения полки и вывод в print + исп. args \n",
    "        return 'Такая полка уже существует. Текущий перечень полок:', *directories.keys()\n",
    "    else:\n",
    "        directories[user_input] =[]\n",
    "#         если полки нет - добавляем ее\n",
    "        return 'Полка добавлена. Текущий перечень полок:', *directories.keys()\n",
    "add_shelf()"
   ]
  },
  {
   "cell_type": "code",
   "execution_count": 10,
   "metadata": {},
   "outputs": [
    {
     "name": "stdout",
     "output_type": "stream",
     "text": [
      "Введите номер полки: 1\n"
     ]
    },
    {
     "data": {
      "text/plain": [
       "('На полке есть документ(ы), удалите их перед удалением полки. Текущий перечень полок:',\n",
       " '1',\n",
       " '2',\n",
       " '3')"
      ]
     },
     "execution_count": 10,
     "metadata": {},
     "output_type": "execute_result"
    }
   ],
   "source": [
    "def del_shelf():\n",
    "    \"\"\"Пользователь  может удалить существующую полку из данных (только если она пустая)\"\"\"\n",
    "    user_input=input('Введите номер полки: ')\n",
    "    if user_input in directories and len(directories[user_input]) == 0:\n",
    "#         проверяем вхождение полки и длину словаря\n",
    "        directories.pop(user_input)\n",
    "#         если есть пустая полка - удаляем ее\n",
    "        return 'Полка удалена. Текущий перечень полок:', *directories.keys()\n",
    "        \n",
    "    elif user_input in directories and len(directories[user_input]) > 0:\n",
    "#         если на полке есть документы и длина словаря > 0 - не трогаем ее\n",
    "        return 'На полке есть документ(ы), удалите их перед удалением полки. Текущий перечень полок:', *directories.keys()\n",
    "    else:\n",
    "        user_input not in directories\n",
    "#         проверка вхождения полки \n",
    "        return 'Такой полки не существует. Текущий перечень полок:',  *directories.keys()\n",
    "del_shelf()"
   ]
  }
 ],
 "metadata": {
  "kernelspec": {
   "display_name": "Python 3",
   "language": "python",
   "name": "python3"
  },
  "language_info": {
   "codemirror_mode": {
    "name": "ipython",
    "version": 3
   },
   "file_extension": ".py",
   "mimetype": "text/x-python",
   "name": "python",
   "nbconvert_exporter": "python",
   "pygments_lexer": "ipython3",
   "version": "3.8.5"
  }
 },
 "nbformat": 4,
 "nbformat_minor": 4
}
