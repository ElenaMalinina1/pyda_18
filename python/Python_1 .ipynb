{
 "cells": [
  {
   "cell_type": "markdown",
   "metadata": {},
   "source": [
    "# Задание 1"
   ]
  },
  {
   "cell_type": "code",
   "execution_count": null,
   "metadata": {},
   "outputs": [],
   "source": [
    "phrase_1 = ('Если соблюдаешь мелкие правила, можно нарушать большие.')\n",
    "phrase_2 = ('Свобода - это возможность сказать, что дважды два - четыре.')\n",
    "\n",
    "if len(phrase_1) <  len(phrase_2):\n",
    "    print('Фраза 1 короче фразы 2')\n",
    "elif  len(phrase_1) >  len(phrase_2):\n",
    "        print('Фраза 1 длиннее фразы 2')\n",
    "elif len(phrase_1) == len(phrase_2):\n",
    "        print('фраза 1 и фрара 2 равны')"
   ]
  },
  {
   "cell_type": "markdown",
   "metadata": {},
   "source": [
    "# Задание 2"
   ]
  },
  {
   "cell_type": "code",
   "execution_count": null,
   "metadata": {},
   "outputs": [],
   "source": [
    "x = 1000\n",
    "\n",
    "if x % 100 == 0 and x % 400 != 0:\n",
    "    print('Невисокосный год')\n",
    "elif x % 4 == 0:\n",
    "    print('Високосный год')\n",
    "elif x % 400 == 0:\n",
    "    print('Високосный год') \n",
    "elif x % 100 == 0:\n",
    "    print('Невисокосный год')\n",
    "else:\n",
    "    print('Невисокосный год')"
   ]
  },
  {
   "cell_type": "markdown",
   "metadata": {},
   "source": [
    "# Задание 3"
   ]
  },
  {
   "cell_type": "code",
   "execution_count": 4,
   "metadata": {},
   "outputs": [
    {
     "name": "stdout",
     "output_type": "stream",
     "text": [
      "Введите месяц рождения: 12\n",
      "Введите дату рождения: 23\n",
      "Стрелец\n"
     ]
    }
   ],
   "source": [
    "month=input('Введите месяц рождения: ')\n",
    "date=int(input('Введите дату рождения: '))\n",
    "\n",
    "if month=='Январь' or month=='январь' or month=='1':\n",
    "    if date<=19:\n",
    "        print('Козерог')\n",
    "    elif date>19:\n",
    "        print('Водолей')\n",
    "elif month=='Февраль' or month=='февраль' or month=='2':\n",
    "    if date <=19:\n",
    "        print('Водолей')\n",
    "    elif date>19:\n",
    "        print('Рыбы')\n",
    "elif month=='Март' or month=='март' or month=='3':\n",
    "    if date<=20:\n",
    "        print('Рыбы')\n",
    "    elif date>20:\n",
    "        print('Овен')\n",
    "elif month=='Апель' or month=='апрель' or month=='4':\n",
    "    if date<=19:\n",
    "        print('Овен')\n",
    "    elif date>19:\n",
    "        print('Телец')\n",
    "elif month=='Май' or month=='май' or month=='5':\n",
    "    if date <=20:\n",
    "        print('Телец')\n",
    "    elif date>20:\n",
    "        print('Близнецы')\n",
    "elif month=='Июнь' or month=='июнь' or month=='6':\n",
    "    if date<=20:\n",
    "        print('Близнецы')\n",
    "    elif date>20:\n",
    "        print('Рак')\n",
    "elif month=='Июль' or month=='июль' or month=='7':\n",
    "    if date<=22:\n",
    "        print('Рак')\n",
    "    elif date>22:\n",
    "        print('Лев')\n",
    "elif month=='Август'  or month=='август'  or month=='8':\n",
    "    if date<=23:\n",
    "        print('Лев') \n",
    "    elif date>23:\n",
    "        print('Дева')\n",
    "elif month=='Сентябрь' or month=='сентябрь' or month=='9':\n",
    "    if date <=23:\n",
    "        print('Дева')\n",
    "    elif date>23:\n",
    "        print('Весы')\n",
    "elif month=='Октябрь' or month=='сентябрь' or month=='10':\n",
    "    if date<=22:\n",
    "        print('Весы')\n",
    "    elif date>22:\n",
    "        print('Скорпион')\n",
    "elif month=='Ноябрь' or month=='ноябрь' or month=='11':\n",
    "    if date<=22:\n",
    "         print('Скорпион')\n",
    "    elif date>22:\n",
    "        print('Стрелец')\n",
    "elif month=='Декабрь' or month=='декабрь' or month=='12':\n",
    "    if date<=23:\n",
    "        print('Стрелец')\n",
    "    elif date>23:\n",
    "        print('Козерог')"
   ]
  },
  {
   "cell_type": "markdown",
   "metadata": {},
   "source": [
    "# Задание 4"
   ]
  },
  {
   "cell_type": "code",
   "execution_count": 8,
   "metadata": {},
   "outputs": [
    {
     "name": "stdout",
     "output_type": "stream",
     "text": [
      "Упаковка для лыж\n"
     ]
    }
   ],
   "source": [
    "width = 45\n",
    "length = 206\n",
    "height = 35\n",
    "\n",
    "if length>=200:\n",
    "        print('Упаковка для лыж')\n",
    "elif width<15 and length<15 and height<15:\n",
    "    print('Коробка №1')\n",
    "elif width>=15 and width<=50 or length>=15 and length<=50 or height>=15 and height<=50:\n",
    "        print('Коробка №2')\n",
    "else:\n",
    "    print('Стандартная коробка №3')"
   ]
  },
  {
   "cell_type": "markdown",
   "metadata": {},
   "source": [
    "# Задание 5"
   ]
  },
  {
   "cell_type": "code",
   "execution_count": null,
   "metadata": {},
   "outputs": [],
   "source": [
    "number= 123456\n",
    "\n",
    "a=number\n",
    "b=a // 1000\n",
    "one=b // 100\n",
    "two=b % 11\n",
    "three=b % 10\n",
    "c=a % 1000\n",
    "four=c // 100\n",
    "five=c % 11\n",
    "six=c % 10\n",
    "if (one + two + three) == (four + five + six):\n",
    "    print('Счастливый билет')\n",
    "else:\n",
    "    print('Несчастливый билет')"
   ]
  },
  {
   "cell_type": "markdown",
   "metadata": {},
   "source": [
    "# Задание 6"
   ]
  },
  {
   "cell_type": "code",
   "execution_count": null,
   "metadata": {},
   "outputs": [],
   "source": [
    "figure=input('Введите тип фигуры: ')\n",
    "\n",
    "if figure == 'треугольник':\n",
    "    a=float(input('Bведите сторону a = '))\n",
    "    b=float(input('Bведите сторону b = '))\n",
    "    c=float(input('Bведите сторону c = '))\n",
    "    p=(a+b+c)/2\n",
    "    s=((p*(p-a)*(p-b)*(p-c)))\n",
    "    print('Площадь: %.2f' % s)\n",
    "    \n",
    "if figure == 'круг':\n",
    "    r=float(input('Bведите радиус r = '))\n",
    "    print('Площадь: %.2f' % (r ** 2))\n",
    "    \n",
    "if figure == 'прямоугольник':\n",
    "    a=float(input('Bведите сторону a = '))\n",
    "    b=float(input('Bведите сторону b = '))\n",
    "    print('Площадь: %.2f' % (a * b)  "
   ]
  }
 ],
 "metadata": {
  "kernelspec": {
   "display_name": "Python 3",
   "language": "python",
   "name": "python3"
  },
  "language_info": {
   "codemirror_mode": {
    "name": "ipython",
    "version": 3
   },
   "file_extension": ".py",
   "mimetype": "text/x-python",
   "name": "python",
   "nbconvert_exporter": "python",
   "pygments_lexer": "ipython3",
   "version": "3.8.5"
  }
 },
 "nbformat": 4,
 "nbformat_minor": 4
}
