{
 "cells": [
  {
   "cell_type": "markdown",
   "metadata": {},
   "source": [
    "# Задание 1"
   ]
  },
  {
   "cell_type": "code",
   "execution_count": null,
   "metadata": {},
   "outputs": [],
   "source": [
    "word=input ('Введите слово: ')\n",
    "length=len(word) / 2\n",
    "if length % 2== 0:\n",
    "    print(word[int(length)-1:int(length)+1])\n",
    "elif length % 2 != 0:\n",
    "        print(word[int(length)+0])"
   ]
  },
  {
   "cell_type": "markdown",
   "metadata": {},
   "source": [
    "# Задание 2"
   ]
  },
  {
   "cell_type": "code",
   "execution_count": null,
   "metadata": {},
   "outputs": [],
   "source": [
    "a=int(input('Введите число: '))\n",
    "sum= 0\n",
    "b= 0\n",
    "while a!= 0:\n",
    "    sum += a\n",
    "    b =+ 1\n",
    "    a=int(input('Введите число: '))\n",
    "print('Сумма чисел:', sum/b)"
   ]
  },
  {
   "cell_type": "markdown",
   "metadata": {},
   "source": [
    "# Задание 3"
   ]
  },
  {
   "cell_type": "code",
   "execution_count": null,
   "metadata": {},
   "outputs": [],
   "source": [
    "boys = ['Peter', 'Alex', 'John', 'Arthur', 'Richard', 'Shon']\n",
    "girls = ['Kate', 'Liza', 'Kira', 'Emma', 'Trisha','Poly' ]\n",
    "\n",
    "boys.sort()\n",
    "girls.sort()\n",
    "\n",
    "if len(boys) == len(girls):\n",
    "    boys_girls=zip(boys, girls)\n",
    "    print(list(boys_girls))\n",
    "if len(boys) != len(girls):\n",
    "        print('Без пары')"
   ]
  },
  {
   "cell_type": "markdown",
   "metadata": {},
   "source": [
    "# Задание 4"
   ]
  },
  {
   "cell_type": "code",
   "execution_count": null,
   "metadata": {},
   "outputs": [],
   "source": [
    "countries_temperature = [\n",
    "['Thailand', [75.2, 77, 78.8, 73.4, 68, 75.2, 77]],\n",
    "['Germany' ,[57.2, 55.4, 59, 59, 53.6]],\n",
    "['Russia', [35.6, 37.4, 39.2, 41, 42.8, 39.2, 35.6]],\n",
    "['Poland', [50, 50, 53.6, 57.2, 55.4, 55.4]]\n",
    "]\n",
    "\n",
    "for countries in countries_temperature:\n",
    "    total=sum(countries[1])\n",
    "    avg=total/len(countries[1])\n",
    "    celsius= (avg - 32) * 5 / 9\n",
    "    print((countries[0]),'-', round(celsius,1), 'С')"
   ]
  },
  {
   "cell_type": "markdown",
   "metadata": {},
   "source": [
    "# Задание 5"
   ]
  },
  {
   "cell_type": "code",
   "execution_count": null,
   "metadata": {},
   "outputs": [],
   "source": [
    "stream = [\n",
    "'2018-01-01,user1,3',\n",
    "'2018-01-07,user1,4',\n",
    "'2018-03-29,user1,1',\n",
    "'2018-04-04,user1,13',\n",
    "'2018-01-05,user2,7',\n",
    "'2018-06-14,user3,4',\n",
    "'2018-07-02,user3,10',\n",
    "'2018-03-21,user4,19',\n",
    "'2018-03-22,user4,4',\n",
    "'2018-04-22,user4,8',\n",
    "'2018-05-03,user4,9',\n",
    "'2018-05-11,user4,11',\n",
    "]\n",
    "\n",
    "views= 0\n",
    "user_list = []\n",
    "\n",
    "for s in stream:\n",
    "    split_list=s.split(',')\n",
    "    views += int(split_list[2]) \n",
    "if split_list[1] not in  split_list[1]:\n",
    "        user_list.append(split_list[1])\n",
    "print('Среднее количество просмотров на уникального пользователя:', views )"
   ]
  },
  {
   "cell_type": "markdown",
   "metadata": {},
   "source": [
    "# Задание 6"
   ]
  },
  {
   "cell_type": "code",
   "execution_count": null,
   "metadata": {},
   "outputs": [],
   "source": [
    "numbers=input('Введите числa через пробел: ')\n",
    "numbers=numbers.split()\n",
    "numbers_r=[]\n",
    "\n",
    "for a in numbers:\n",
    "    if numbers_r.count(a) <1 and a not in numbers_r:\n",
    "        numbers_r.append(a)\n",
    "print('Результат: ', numbers_r)"
   ]
  }
 ],
 "metadata": {
  "kernelspec": {
   "display_name": "Python 3",
   "language": "python",
   "name": "python3"
  },
  "language_info": {
   "codemirror_mode": {
    "name": "ipython",
    "version": 3
   },
   "file_extension": ".py",
   "mimetype": "text/x-python",
   "name": "python",
   "nbconvert_exporter": "python",
   "pygments_lexer": "ipython3",
   "version": "3.8.5"
  }
 },
 "nbformat": 4,
 "nbformat_minor": 4
}
