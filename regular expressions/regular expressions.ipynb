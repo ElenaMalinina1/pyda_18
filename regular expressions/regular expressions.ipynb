{
 "cells": [
  {
   "cell_type": "markdown",
   "metadata": {},
   "source": [
    "# Задание 1"
   ]
  },
  {
   "cell_type": "code",
   "execution_count": 1,
   "metadata": {},
   "outputs": [],
   "source": [
    "import re\n",
    "import json"
   ]
  },
  {
   "cell_type": "code",
   "execution_count": null,
   "metadata": {},
   "outputs": [],
   "source": [
    "car_id = 'А222BС96'\n",
    "\n",
    "def tr_num(car_id):\n",
    "    rexp = (r'\\w{1}\\d{3}\\w{2}\\d{2,3}')\n",
    "    if re.findall(rexp, car_id):\n",
    "        return f'Номер {car_id} валиден'\n",
    "    \n",
    "    return f'Номер {car_id} не валиден'\n",
    "tr_num(car_id)"
   ]
  },
  {
   "cell_type": "markdown",
   "metadata": {},
   "source": [
    "# Задание 2"
   ]
  },
  {
   "cell_type": "code",
   "execution_count": null,
   "metadata": {},
   "outputs": [],
   "source": [
    "some_string = 'Напишите функцию функцию, которая будет будет будет будет удалять все все  все все последовательные повторы слов из из из из заданной строки строки при помощи регулярных выражений'\n",
    "\n",
    "def del_repeat(some_string):\n",
    "    reg_exp = re.sub(r'\\b([\\w\\d]+)(\\s+\\1)+\\b', r'\\1', some_string)\n",
    "    return reg_exp\n",
    "    \n",
    "del_repeat(some_string)"
   ]
  },
  {
   "cell_type": "markdown",
   "metadata": {},
   "source": [
    "# Задание 3"
   ]
  },
  {
   "cell_type": "code",
   "execution_count": null,
   "metadata": {},
   "outputs": [],
   "source": [
    "some_words = 'Near Field Communication'\n",
    "\n",
    "def make_acronym(some_words):\n",
    "    acronym = re.sub(r'\\b(\\w)\\w+', r'\\1', some_words).upper().replace(' ', '')\n",
    "    return acronym\n",
    "\n",
    "make_acronym(some_words)"
   ]
  },
  {
   "cell_type": "markdown",
   "metadata": {},
   "source": [
    "# Задание 4"
   ]
  },
  {
   "cell_type": "code",
   "execution_count": 14,
   "metadata": {},
   "outputs": [
    {
     "name": "stdout",
     "output_type": "stream",
     "text": [
      "{\n",
      "    \"gmail.com\": 2,\n",
      "    \"test.in\": 1,\n",
      "    \"ya.ru\": 2,\n",
      "    \"mail.ru\": 1\n",
      "}\n"
     ]
    }
   ],
   "source": [
    "emails = ['test@gmail.com', 'xyz@test.in', 'test@ya.ru', 'xyz@mail.ru', 'xyz@ya.ru', 'xyz@gmail.com']\n",
    "\n",
    "def domen_zone(emails):\n",
    "    string = ' '.join(emails)\n",
    "    find_emails = r'\\w+\\.\\w+(?!\\w+\\@)'\n",
    "    find_domen = re.findall(find_emails, string)\n",
    "    count_domen = {domen : find_domen.count(domen) for domen in find_domen}\n",
    "    print(json.dumps(count_domen, indent = 4))\n",
    "\n",
    "domen_zone(emails)"
   ]
  }
 ],
 "metadata": {
  "kernelspec": {
   "display_name": "Python 3",
   "language": "python",
   "name": "python3"
  },
  "language_info": {
   "codemirror_mode": {
    "name": "ipython",
    "version": 3
   },
   "file_extension": ".py",
   "mimetype": "text/x-python",
   "name": "python",
   "nbconvert_exporter": "python",
   "pygments_lexer": "ipython3",
   "version": "3.8.5"
  }
 },
 "nbformat": 4,
 "nbformat_minor": 4
}
