{
 "cells": [
  {
   "cell_type": "markdown",
   "metadata": {},
   "source": [
    "# Задание 1"
   ]
  },
  {
   "cell_type": "code",
   "execution_count": null,
   "metadata": {},
   "outputs": [],
   "source": [
    "from datetime import datetime\n",
    "from datetime import timedelta"
   ]
  },
  {
   "cell_type": "code",
   "execution_count": null,
   "metadata": {},
   "outputs": [],
   "source": [
    "The Moscow Times - Wednesday, October 2, 2002\n",
    "The Guardian - Friday, 11.10.13\n",
    "Daily News - Thursday, 18 August 1977"
   ]
  },
  {
   "cell_type": "code",
   "execution_count": null,
   "metadata": {},
   "outputs": [],
   "source": [
    "moscow_times_datetime = datetime.strptime('Wednesday, October, 2, 2002', '%A, %B, %d, %Y')\n",
    "print(moscow_times_datetime)\n",
    "the_guardian_datetime = datetime.strptime('Friday, 11.10.13', '%A, %d.%m.%y')\n",
    "print(the_guardian_datetime)\n",
    "daily_news_datetime = datetime.strptime('Thursday, 18 August 1977', '%A, %d %B %Y')\n",
    "print(daily_news_datetime)"
   ]
  },
  {
   "cell_type": "markdown",
   "metadata": {},
   "source": [
    "# Задание 2"
   ]
  },
  {
   "cell_type": "code",
   "execution_count": null,
   "metadata": {
    "scrolled": true
   },
   "outputs": [],
   "source": [
    "stream = ['2018-04-02', '2018-02-29','2018-19-02','2021-03-30']\n",
    "\n",
    "def correct_date(stream):\n",
    "    for date in stream:\n",
    "        try:\n",
    "            datetime.strptime(date, '%Y-%m-%d')\n",
    "            print(f'Корректная дата {date}')\n",
    "        except:\n",
    "            print(f'Некорректная дата {date}')\n",
    "correct_date(stream)"
   ]
  },
  {
   "cell_type": "markdown",
   "metadata": {},
   "source": [
    "# Задание 3 "
   ]
  },
  {
   "cell_type": "code",
   "execution_count": null,
   "metadata": {},
   "outputs": [],
   "source": [
    "start_date = '2021-04-1'\n",
    "end_date = '2021-04-10'\n",
    "\n",
    "def date_range(start_date, end_date):\n",
    "    if start_date > end_date:\n",
    "        return []\n",
    "    try:\n",
    "        datetime.strptime(start_date, '%Y-%m-%d')\n",
    "        datetime.strptime(end_date, '%Y-%m-%d')\n",
    "        pass\n",
    "    except:\n",
    "        return []\n",
    "    start_dt = datetime.strptime(start_date, '%Y-%m-%d')\n",
    "    end_dt = datetime.strptime(end_date, '%Y-%m-%d')\n",
    "    while start_dt <= end_dt:   \n",
    "        print(start_dt.strftime('%Y-%m-%d'))\n",
    "        start_dt += timedelta(days = 1)\n",
    "date_range(start_date, end_date)"
   ]
  },
  {
   "cell_type": "markdown",
   "metadata": {},
   "source": [
    "# Задание 4"
   ]
  },
  {
   "cell_type": "code",
   "execution_count": null,
   "metadata": {},
   "outputs": [],
   "source": [
    "1. list index out of range - запрашивается индекс, где для него нет элемента\n",
    "2. при первом запуске изменяется размер параметра по умолчанию и при повторном запуске функция не работает"
   ]
  }
 ],
 "metadata": {
  "kernelspec": {
   "display_name": "Python 3",
   "language": "python",
   "name": "python3"
  },
  "language_info": {
   "codemirror_mode": {
    "name": "ipython",
    "version": 3
   },
   "file_extension": ".py",
   "mimetype": "text/x-python",
   "name": "python",
   "nbconvert_exporter": "python",
   "pygments_lexer": "ipython3",
   "version": "3.8.5"
  }
 },
 "nbformat": 4,
 "nbformat_minor": 4
}
