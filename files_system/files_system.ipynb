{
 "cells": [
  {
   "cell_type": "code",
   "execution_count": null,
   "metadata": {},
   "outputs": [],
   "source": [
    "import json\n",
    "# json импортируем для чтения"
   ]
  },
  {
   "cell_type": "code",
   "execution_count": null,
   "metadata": {},
   "outputs": [],
   "source": [
    "with open ('C:\\\\Users\\\\myaut\\\\OneDrive\\\\Рабочий стол\\\\purchase_log.txt', 'r', encoding= 'utf-8') as f:\n",
    "#     i=0\n",
    "# i для знакомства с файлом\n",
    "    for line in f:\n",
    "#        построчно читаем файл\n",
    "        line=line.strip()\n",
    "#     выкидывем все лишнее\n",
    "        my_dict=json.loads(line)\n",
    "#     json.loads переводит строку в словарь\n",
    "        for a in my_dict.items():\n",
    "#         итерируемся по словарю\n",
    "            k=my_dict['user_id']\n",
    "            v=my_dict['category']\n",
    "            purchase={k:v}\n",
    "#             собираем словарь\n",
    "        print(purchase)\n",
    "\n",
    "#         i+=1\n",
    "#         if i>5:\n",
    "#              break"
   ]
  },
  {
   "cell_type": "code",
   "execution_count": null,
   "metadata": {},
   "outputs": [],
   "source": [
    "with open ('C:\\\\Users\\\\myaut\\\\OneDrive\\\\Рабочий стол\\\\visit_log.csv', 'r', encoding= 'utf-8') as f2read:\n",
    "#     файл для чтения\n",
    "    with open(' funnel.csv', 'w', encoding= 'utf-8') as f2write:\n",
    "#         файл для записи\n",
    "        for line_2 in f2read:\n",
    "#         построчно читаем файл\n",
    "            line_2=line_2.strip().split(',')\n",
    "#     убираем лишнее и преобразуем в список\n",
    "            if line_2[0] in f2read:\n",
    "#         если есть нужное значение\n",
    "                line_2.append(purchases.get(line_2[0]))\n",
    "#     добавляем его \n",
    "                f2write.write(line_2)\n",
    "#     записываем в файл\n",
    "        print(f2write)"
   ]
  }
 ],
 "metadata": {
  "kernelspec": {
   "display_name": "Python 3",
   "language": "python",
   "name": "python3"
  },
  "language_info": {
   "codemirror_mode": {
    "name": "ipython",
    "version": 3
   },
   "file_extension": ".py",
   "mimetype": "text/x-python",
   "name": "python",
   "nbconvert_exporter": "python",
   "pygments_lexer": "ipython3",
   "version": "3.8.5"
  }
 },
 "nbformat": 4,
 "nbformat_minor": 4
}
