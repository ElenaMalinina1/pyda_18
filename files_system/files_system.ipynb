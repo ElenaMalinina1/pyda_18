{
 "cells": [
  {
   "cell_type": "code",
   "execution_count": null,
   "metadata": {},
   "outputs": [],
   "source": [
    "import json\n",
    "from pprint import pprint"
   ]
  },
  {
   "cell_type": "code",
   "execution_count": null,
   "metadata": {},
   "outputs": [],
   "source": [
    "with open ('purchase_log.txt', encoding= 'utf-8') as f:\n",
    "    purchases= {}\n",
    "    for line in f:\n",
    "        key, value=json.loads(line).values()\n",
    "#         print(key, value)\n",
    "        purchases.setdefault(key, [])\n",
    "        purchases[key].append(value)\n",
    "    pprint(purchases)"
   ]
  },
  {
   "cell_type": "code",
   "execution_count": null,
   "metadata": {},
   "outputs": [],
   "source": [
    "with open ('C:\\\\Users\\\\myaut\\\\OneDrive\\\\Рабочий стол\\\\Anaconda3 (64-bit)\\\\visit_log.csv', encoding= 'utf-8') as f2read:\n",
    "    with open('funnel.csv', 'w', encoding= 'utf-8') as f2write:\n",
    "        for string in f2read:\n",
    "            string=string.strip().split(',')\n",
    "#             print(string)\n",
    "            if string[0] in purchases.keys():\n",
    "                el=string\n",
    "                el.append(purchases.get(string[0]))\n",
    "#                 print(el)\n",
    "                f2write.write(str(el) + '\\n')\n",
    "        print(f2write)"
   ]
  },
  {
   "cell_type": "code",
   "execution_count": null,
   "metadata": {},
   "outputs": [],
   "source": [
    "a=0\n",
    "with open ('funnel.csv', encoding= 'utf-8') as d:\n",
    "    for line in d:\n",
    "        print(line)\n",
    "        \n",
    "        a+=1\n",
    "        if a>7:\n",
    "            break"
   ]
  }
 ],
 "metadata": {
  "kernelspec": {
   "display_name": "Python 3",
   "language": "python",
   "name": "python3"
  },
  "language_info": {
   "codemirror_mode": {
    "name": "ipython",
    "version": 3
   },
   "file_extension": ".py",
   "mimetype": "text/x-python",
   "name": "python",
   "nbconvert_exporter": "python",
   "pygments_lexer": "ipython3",
   "version": "3.8.5"
  }
 },
 "nbformat": 4,
 "nbformat_minor": 4
}
