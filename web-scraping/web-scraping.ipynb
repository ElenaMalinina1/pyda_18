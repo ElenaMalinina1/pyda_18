{
 "cells": [
  {
   "cell_type": "markdown",
   "metadata": {},
   "source": [
    "# Задание 1.\n",
    "Обязательная часть\n",
    "Будем парсить страницу со свежеми новостям на habr.com/ru/all/.\n",
    "\n",
    "Вам необходимо собирать только те статьи, в которых встречается хотя бы одно требуемое ключевое слово. Эти слова определяем в начале кода в переменной, например:\n",
    "\n",
    "KEYWORDS = ['python', 'парсинг']\n",
    "\n",
    "Поиск вести по всей доступной preview-информации (это информация, доступная непосредственно с текущей страницы).\n",
    "\n",
    "В итоге должен формироваться датафрейм вида: <дата> - <заголовок> - <ссылка>\n",
    "\n",
    "### Дополнительная часть (необязательная)\n",
    "Улучшить скрипт так, чтобы он анализировал не только preview-информацию статьи, но и весь текст статьи целиком.\n",
    "\n",
    "Для этого потребуется получать страницы статей и искать по тексту внутри этой страницы.\n",
    "\n",
    "Итоговый датафрейм формировать со столбцами: <дата> - <заголовок> - <ссылка> - <текст_статьи>"
   ]
  },
  {
   "cell_type": "code",
   "execution_count": null,
   "metadata": {},
   "outputs": [],
   "source": [
    "import requests\n",
    "from bs4 import BeautifulSoup\n",
    "import pandas as pd\n",
    "import time"
   ]
  },
  {
   "cell_type": "code",
   "execution_count": null,
   "metadata": {},
   "outputs": [],
   "source": [
    "KEYWORDS = ['python', 'парсинг', 'разработчик', 'ученые']\n",
    "\n",
    "res =  requests.get('https://habr.com/ru/all/')\n",
    "soup = BeautifulSoup(res.text, 'html.parser') \n",
    "links = soup.find_all('h2', class_='post__title')\n",
    "# извлечение всех тегов для ссылок\n",
    "link_list = list(map(lambda x: x.find('a').get('href'), links))\n",
    "# извлечение ссылок\n",
    "link_list"
   ]
  },
  {
   "cell_type": "code",
   "execution_count": null,
   "metadata": {},
   "outputs": [],
   "source": [
    "def get_habr_news(link_list):\n",
    "    habr_news = pd.DataFrame()\n",
    "    for link in link_list:\n",
    "        soup = BeautifulSoup(requests.get(link).text, 'html.parser')\n",
    "#         запрос к ссылке\n",
    "        time.sleep(0.3)\n",
    "#     задержка на всякий случай\n",
    "        text = soup.find('div', class_ = 'post__body post__body_full').text.lower().strip()\n",
    "#     получение текста поста\n",
    "        for words in KEYWORDS:\n",
    "            if words in text:\n",
    "#                 поиск нужных слов\n",
    "                date = pd.to_datetime(soup.find('span', class_='post__time').get('data-time_published'), dayfirst = True).date()\n",
    "#     получение даты\n",
    "                title = soup.find('span', class_ = 'post__title-text').text\n",
    "#     получение загловка\n",
    "                row = {'date': date, 'title': title, 'link': link, 'text': text}\n",
    "                habr_news = pd.concat([habr_news, pd.DataFrame([row])])  \n",
    "#         склеивание в dataframe\n",
    "    return habr_news\n",
    "get_habr_news(link_list)"
   ]
  },
  {
   "cell_type": "markdown",
   "metadata": {},
   "source": [
    "# Задание 2.\n",
    "Обязательная часть:\n",
    "\n",
    "Написать скрипт, который будет проверять список e-mail адресов на утечку при помощи сервиса Avast Hack Ckeck. Список email-ов задаем переменной в начале кода:\n",
    "EMAIL = [xxx@x.ru, yyy@y.com]\n",
    "\n",
    "В итоге должен формироваться датафрейм со столбцами: <дата утечки> - <источник утечки> - <описание утечки>\n",
    "\n",
    "Подсказка: сервис работает при помощи \"скрытого\" API. Внимательно изучите post-запросы."
   ]
  },
  {
   "cell_type": "code",
   "execution_count": null,
   "metadata": {},
   "outputs": [],
   "source": [
    "EMAIL = ['xxx@x.ru', 'yyy@y.com']\n",
    "emails = {\n",
    "    'emailAddresses': 'xxx@x.ru',\n",
    "    'emailAddresses': 'yyy@y.com'\n",
    "}\n",
    "url = 'https://identityprotection.avast.com/v1/web/query/site-breaches/unauthorized-data'\n",
    "headers = {\n",
    "    'Vaar-Version': '0',\n",
    "    'Vaar-Header-App-Product': 'hackcheck-web-avast', \n",
    "    'Vaar-Header-App-Build-Version': '1.0.0',\n",
    "    'Vaar-Header-App-Product-Name': 'hackcheck-web-avast'\n",
    "}"
   ]
  },
  {
   "cell_type": "code",
   "execution_count": null,
   "metadata": {},
   "outputs": [],
   "source": [
    "emails_df = pd.DataFrame()\n",
    "for item in EMAIL:\n",
    "    r = requests.post(url, json = {'emailAddresses': [item]}, headers = headers)\n",
    "    time.sleep(0.35)\n",
    "    for email in r:\n",
    "        emails_df = pd.concat([emails_df, pd.DataFrame(r.json()['breaches']).transpose()])\n",
    "        emails_df['publishDate'] = pd.to_datetime(emails_df['publishDate'])\n",
    "        emails_df.loc[:, ['publishDate', 'site', 'description']]\n",
    "    emails_df"
   ]
  }
 ],
 "metadata": {
  "kernelspec": {
   "display_name": "Python 3",
   "language": "python",
   "name": "python3"
  },
  "language_info": {
   "codemirror_mode": {
    "name": "ipython",
    "version": 3
   },
   "file_extension": ".py",
   "mimetype": "text/x-python",
   "name": "python",
   "nbconvert_exporter": "python",
   "pygments_lexer": "ipython3",
   "version": "3.8.5"
  }
 },
 "nbformat": 4,
 "nbformat_minor": 4
}
